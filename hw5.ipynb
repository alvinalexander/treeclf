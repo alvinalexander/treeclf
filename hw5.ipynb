{
 "cells": [
  {
   "cell_type": "code",
   "execution_count": 29,
   "metadata": {},
   "outputs": [],
   "source": [
    "from core.classifiers.decision_tree_clf import DecisionTreeClassifier\n",
    "import numpy as np\n",
    "import scipy as sp\n",
    "import collections\n",
    "from scipy import io\n",
    "from scipy.special import expit\n",
    "import pandas as pd\n",
    "import matplotlib.pyplot as plt\n",
    "from scipy.stats import multivariate_normal\n",
    "%matplotlib inline\n",
    "from sklearn.metrics import accuracy_score\n",
    "from sklearn.utils import shuffle\n",
    "from sklearn.model_selection import train_test_split"
   ]
  },
  {
   "cell_type": "markdown",
   "metadata": {},
   "source": [
    "# 2.1 Implement Decsion Tree"
   ]
  },
  {
   "cell_type": "markdown",
   "metadata": {},
   "source": [
    "# 2.2 Implement Random forrest"
   ]
  },
  {
   "cell_type": "markdown",
   "metadata": {},
   "source": [
    "## Spam Dataset"
   ]
  },
  {
   "cell_type": "code",
   "execution_count": 8,
   "metadata": {
    "collapsed": true
   },
   "outputs": [],
   "source": [
    "spam_data = io.loadmat(\"../HW5_codes/Q2_decision_tree/datasets/spam-dataset/spam_data.mat\")"
   ]
  },
  {
   "cell_type": "code",
   "execution_count": 27,
   "metadata": {},
   "outputs": [
    {
     "data": {
      "text/plain": [
       "dict_keys(['__header__', '__version__', '__globals__', 'test_data', 'training_data', 'training_labels'])"
      ]
     },
     "execution_count": 27,
     "metadata": {},
     "output_type": "execute_result"
    }
   ],
   "source": [
    "spam_data.keys()"
   ]
  },
  {
   "cell_type": "code",
   "execution_count": 31,
   "metadata": {},
   "outputs": [],
   "source": [
    "spam_training_data, spam_training_labels, spam_test_data = (spam_data['training_data'], \n",
    "                                                                              spam_data['training_labels'][0],\n",
    "                                                                             spam_data['test_data'])"
   ]
  },
  {
   "cell_type": "code",
   "execution_count": 39,
   "metadata": {},
   "outputs": [],
   "source": [
    "spam_X_train, spam_X_valid, spam_y_train, spam_y_valid = train_test_split(\n",
    "     spam_training_data, spam_training_labels, test_size=0.20, random_state=42)"
   ]
  },
  {
   "cell_type": "markdown",
   "metadata": {},
   "source": [
    "# 2.4 - Performance Evaluation"
   ]
  },
  {
   "cell_type": "code",
   "execution_count": 34,
   "metadata": {},
   "outputs": [],
   "source": [
    "\n",
    "clf = DecisionTreeClassifier()\n",
    "clf = clf.fit(spam_X_train[:100], spam_y_train[:100])\n"
   ]
  },
  {
   "cell_type": "code",
   "execution_count": 35,
   "metadata": {
    "collapsed": true
   },
   "outputs": [
    {
     "name": "stdout",
     "output_type": "stream",
     "text": [
      "column[19] >= 1.0 ?\n",
      "--> True:\n",
      "  Predict 0\n",
      "  Predict Counter({0: 22})\n",
      "--> False:\n",
      "  column[28] >= 1.0 ?\n",
      "  --> True:\n",
      "    column[15] >= 1.0 ?\n",
      "    --> True:\n",
      "      Predict 0\n",
      "      Predict Counter({0: 3})\n",
      "    --> False:\n",
      "      column[29] >= 4.0 ?\n",
      "      --> True:\n",
      "        column[28] >= 10.0 ?\n",
      "        --> True:\n",
      "          Predict 1\n",
      "          Predict Counter({1: 1})\n",
      "        --> False:\n",
      "          Predict 0\n",
      "          Predict Counter({0: 2})\n",
      "      --> False:\n",
      "        column[14] >= 1.0 ?\n",
      "        --> True:\n",
      "          column[28] >= 5.0 ?\n",
      "          --> True:\n",
      "            Predict 1\n",
      "            Predict Counter({1: 1})\n",
      "          --> False:\n",
      "            Predict 0\n",
      "            Predict Counter({0: 1})\n",
      "        --> False:\n",
      "          Predict 1\n",
      "          Predict Counter({1: 9})\n",
      "  --> False:\n",
      "    column[0] >= 1.0 ?\n",
      "    --> True:\n",
      "      Predict 1\n",
      "      Predict Counter({1: 2})\n",
      "    --> False:\n",
      "      column[31] >= 1.0 ?\n",
      "      --> True:\n",
      "        Predict 0\n",
      "        Predict Counter({0: 9})\n",
      "      --> False:\n",
      "        column[29] >= 5.0 ?\n",
      "        --> True:\n",
      "          Predict 1\n",
      "          Predict Counter({1: 2})\n",
      "        --> False:\n",
      "          column[25] >= 1.0 ?\n",
      "          --> True:\n",
      "            Predict 0\n",
      "            Predict Counter({0: 6})\n",
      "          --> False:\n",
      "            column[29] >= 2.0 ?\n",
      "            --> True:\n",
      "              Predict 0\n",
      "              Predict Counter({0: 3})\n",
      "            --> False:\n",
      "              column[24] >= 2.0 ?\n",
      "              --> True:\n",
      "                Predict 0\n",
      "                Predict Counter({0: 2})\n",
      "              --> False:\n",
      "                column[16] >= 1.0 ?\n",
      "                --> True:\n",
      "                  Predict 0\n",
      "                  Predict Counter({0: 2})\n",
      "                --> False:\n",
      "                  column[15] >= 1.0 ?\n",
      "                  --> True:\n",
      "                    Predict 0\n",
      "                    Predict Counter({0: 2})\n",
      "                  --> False:\n",
      "                    column[29] >= 1.0 ?\n",
      "                    --> True:\n",
      "                      Predict 1\n",
      "                      Predict Counter({1: 1})\n",
      "                    --> False:\n",
      "                      column[26] >= 4.0 ?\n",
      "                      --> True:\n",
      "                        Predict 0\n",
      "                        Predict Counter({0: 1})\n",
      "                      --> False:\n",
      "                        column[21] >= 1.0 ?\n",
      "                        --> True:\n",
      "                          Predict 0\n",
      "                          Predict Counter({0: 1})\n",
      "                        --> False:\n",
      "                          column[13] >= 1.0 ?\n",
      "                          --> True:\n",
      "                            Predict 0\n",
      "                            Predict Counter({0: 1})\n",
      "                          --> False:\n",
      "                            column[27] >= 1.0 ?\n",
      "                            --> True:\n",
      "                              column[27] >= 2.0 ?\n",
      "                              --> True:\n",
      "                                column[26] >= 1.0 ?\n",
      "                                --> True:\n",
      "                                  Predict 0\n",
      "                                  Predict Counter({0: 1})\n",
      "                                --> False:\n",
      "                                  Predict 0\n",
      "                                  Predict Counter({0: 1, 1: 1})\n",
      "                              --> False:\n",
      "                                Predict 1\n",
      "                                Predict Counter({1: 1})\n",
      "                            --> False:\n",
      "                              column[26] >= 1.0 ?\n",
      "                              --> True:\n",
      "                                Predict 1\n",
      "                                Predict Counter({1: 1})\n",
      "                              --> False:\n",
      "                                column[24] >= 1.0 ?\n",
      "                                --> True:\n",
      "                                  Predict 0\n",
      "                                  Predict Counter({0: 1})\n",
      "                                --> False:\n",
      "                                  Predict 0\n",
      "                                  Predict Counter({0: 16, 1: 7})\n"
     ]
    }
   ],
   "source": [
    "clf.pint_tree()"
   ]
  },
  {
   "cell_type": "code",
   "execution_count": 36,
   "metadata": {},
   "outputs": [
    {
     "data": {
      "text/plain": [
       "0.6695957820738138"
      ]
     },
     "execution_count": 36,
     "metadata": {},
     "output_type": "execute_result"
    }
   ],
   "source": [
    "predictions = clf.predict(spam_X_valid)\n",
    "accuracy_score(predictions, spam_y_valid)"
   ]
  },
  {
   "cell_type": "code",
   "execution_count": 37,
   "metadata": {
    "collapsed": true
   },
   "outputs": [],
   "source": [
    "sample_sizes = [100, 200, 500, 1000, 2000]\n",
    "measurements = []\n",
    "\n",
    "for s in sample_sizes:\n",
    "    clf = DecisionTreeClassifier()\n",
    "    clf = clf.fit(spam_X_train[:s], spam_y_train[:s])\n",
    "    predictions = clf.predict(spam_X_valid)\n",
    "    measurements.append(accuracy_score(predictions, spam_y_valid))"
   ]
  },
  {
   "cell_type": "code",
   "execution_count": 38,
   "metadata": {},
   "outputs": [
    {
     "data": {
      "image/png": "[encoded data removed]",
      "text/plain": [
       "<Figure size 432x288 with 1 Axes>"
      ]
     },
     "metadata": {
      "needs_background": "light"
     },
     "output_type": "display_data"
    }
   ],
   "source": [
    "plt.plot(sample_sizes, measurements)\n",
    "plt.xlabel('sample size')\n",
    "plt.ylabel('Model Accuracy')\n",
    "plt.show()"
   ]
  },
  {
   "cell_type": "markdown",
   "metadata": {},
   "source": [
    "## 2.5"
   ]
  },
  {
   "cell_type": "markdown",
   "metadata": {},
   "source": [
    "### 2.5.2 - Classify specific point \n",
    "- TODO: implement a trace function that returns the trace of a point "
   ]
  },
  {
   "cell_type": "markdown",
   "metadata": {},
   "source": [
    "### 2.5.5 "
   ]
  },
  {
   "cell_type": "code",
   "execution_count": 48,
   "metadata": {
    "collapsed": true
   },
   "outputs": [],
   "source": [
    "max_depth = list(range(1, 41))\n",
    "measurements = []\n",
    "\n",
    "for d in max_depth:\n",
    "    clf = DecisionTreeClassifier(max_depth=d)\n",
    "    clf = clf.fit(spam_X_train, spam_y_train)\n",
    "    predictions = clf.predict(spam_X_valid)\n",
    "    measurements.append(accuracy_score(predictions, spam_y_valid))\n",
    "    print(\"Achieved %d accuracy with max_depth %d\" % (measurements[-1], d))"
   ]
  },
  {
   "cell_type": "code",
   "execution_count": 49,
   "metadata": {},
   "outputs": [
    {
     "data": {
      "image/png": "[encoded data removed]",
      "text/plain": [
       "<Figure size 432x288 with 1 Axes>"
      ]
     },
     "metadata": {
      "needs_background": "light"
     },
     "output_type": "display_data"
    }
   ],
   "source": [
    "plt.plot(max_depth, measurements)\n",
    "plt.xlabel('Tree max depth')\n",
    "plt.ylabel('Model Accuracy')\n",
    "plt.show()"
   ]
  },
  {
   "cell_type": "markdown",
   "metadata": {},
   "source": [
    "# 2.6 Titanic"
   ]
  },
  {
   "cell_type": "code",
   "execution_count": null,
   "metadata": {
    "collapsed": true
   },
   "outputs": [],
   "source": []
  }
 ],
 "metadata": {
  "kernelspec": {
   "display_name": "Python (cs189)",
   "language": "python",
   "name": "cs189"
  },
  "language_info": {
   "codemirror_mode": {
    "name": "ipython",
    "version": 3
   },
   "file_extension": ".py",
   "mimetype": "text/x-python",
   "name": "python",
   "nbconvert_exporter": "python",
   "pygments_lexer": "ipython3",
   "version": "3.7.2"
  }
 },
 "nbformat": 4,
 "nbformat_minor": 1
}
